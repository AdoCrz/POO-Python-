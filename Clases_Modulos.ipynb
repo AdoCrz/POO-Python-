{
 "cells": [
  {
   "cell_type": "markdown",
   "id": "6077c769-4f80-47ad-9e48-a5f06d4844f5",
   "metadata": {},
   "source": [
    "## PROMiDAT Iberoamericano\n",
    "## Inteligencia Artificial con Python\n",
    "## ML1000 - Programación Orientada a Objetos\n",
    "\n",
    "# Tarea 3 \n",
    "### **Adolfo Cruz Razo**"
   ]
  },
  {
   "cell_type": "markdown",
   "id": "945bff81",
   "metadata": {},
   "source": [
    "#### 1. Desarrolle en Python la clase Círculo tal y como se observa en el diagrama. Debe realizar al menos una prueba de cada uno de los métodos."
   ]
  },
  {
   "cell_type": "code",
   "execution_count": null,
   "id": "9a94b57a",
   "metadata": {},
   "outputs": [],
   "source": [
    "# Importando clase circulo\n",
    "\n",
    "from modulo_ejercicio_1 import Circulo"
   ]
  },
  {
   "cell_type": "code",
   "execution_count": null,
   "id": "84f897f6",
   "metadata": {},
   "outputs": [],
   "source": [
    "# Llamando a la clase\n",
    "c = Circulo(20)"
   ]
  },
  {
   "cell_type": "code",
   "execution_count": null,
   "id": "909f0bcb",
   "metadata": {},
   "outputs": [
    {
     "data": {
      "text/plain": [
       "20"
      ]
     },
     "execution_count": 49,
     "metadata": {},
     "output_type": "execute_result"
    }
   ],
   "source": [
    "# Viendo los atributos (Get)\n",
    "c.radio"
   ]
  },
  {
   "cell_type": "code",
   "execution_count": 50,
   "id": "f52cb6dc",
   "metadata": {},
   "outputs": [
    {
     "data": {
      "text/plain": [
       "25"
      ]
     },
     "execution_count": 50,
     "metadata": {},
     "output_type": "execute_result"
    }
   ],
   "source": [
    "# Cambiando valor de mi atributo (Set)\n",
    "c.radio = 25\n",
    "c.radio"
   ]
  },
  {
   "cell_type": "code",
   "execution_count": null,
   "id": "6b1e8ee8",
   "metadata": {},
   "outputs": [
    {
     "data": {
      "text/plain": [
       "157.07963267948966"
      ]
     },
     "execution_count": 51,
     "metadata": {},
     "output_type": "execute_result"
    }
   ],
   "source": [
    "# Método Perimetro\n",
    "\n",
    "c.perimetro()"
   ]
  },
  {
   "cell_type": "code",
   "execution_count": null,
   "id": "9e72d430",
   "metadata": {},
   "outputs": [
    {
     "data": {
      "text/plain": [
       "1963.4954084936207"
      ]
     },
     "execution_count": 52,
     "metadata": {},
     "output_type": "execute_result"
    }
   ],
   "source": [
    "# Método Área\n",
    "\n",
    "c.area()"
   ]
  },
  {
   "cell_type": "code",
   "execution_count": 54,
   "id": "603ac4e3",
   "metadata": {},
   "outputs": [
    {
     "name": "stdout",
     "output_type": "stream",
     "text": [
      "Radio circulo: (25.00)\n"
     ]
    }
   ],
   "source": [
    "# Método dunder __str__\n",
    "\n",
    "print(c)"
   ]
  },
  {
   "cell_type": "code",
   "execution_count": null,
   "id": "64c60d31",
   "metadata": {},
   "outputs": [
    {
     "name": "stdout",
     "output_type": "stream",
     "text": [
      "El valor no es númerico, por favor introduce un valor numérico\n"
     ]
    }
   ],
   "source": [
    "# Probando errores en el constructor\n",
    "\n",
    "c_2 = Circulo(\"Hola\")"
   ]
  },
  {
   "cell_type": "code",
   "execution_count": 62,
   "id": "63b128c3",
   "metadata": {},
   "outputs": [
    {
     "name": "stdout",
     "output_type": "stream",
     "text": [
      "El valor no es númerico, por favor introduce un valor numérico\n"
     ]
    }
   ],
   "source": [
    "# Probando errores en el set\n",
    "\n",
    "c.radio = \"Hola\""
   ]
  },
  {
   "cell_type": "markdown",
   "id": "0d1de62f",
   "metadata": {},
   "source": [
    "#### 2. Desarrolle en Python la clase Elipse tal y como se observa en el diagrama. Debe realizar al menos una prueba de cada uno de los métodos."
   ]
  },
  {
   "cell_type": "code",
   "execution_count": 56,
   "id": "cf4973a8",
   "metadata": {},
   "outputs": [],
   "source": [
    "# Importando clase Elipse\n",
    "\n",
    "from modulo_ejercicio_2 import Elipse"
   ]
  },
  {
   "cell_type": "code",
   "execution_count": null,
   "id": "e5fa670b",
   "metadata": {},
   "outputs": [],
   "source": [
    "# Llamando a la clase\n",
    "\n",
    "e = Elipse(10, 20)"
   ]
  },
  {
   "cell_type": "code",
   "execution_count": 77,
   "id": "0197e83e",
   "metadata": {},
   "outputs": [
    {
     "name": "stdout",
     "output_type": "stream",
     "text": [
      "6\n",
      "12\n"
     ]
    }
   ],
   "source": [
    "# Viendo los atributos (Get)\n",
    "print(e.radio_menor)\n",
    "print(e.radio_mayor)"
   ]
  },
  {
   "cell_type": "code",
   "execution_count": 64,
   "id": "b6692c05",
   "metadata": {},
   "outputs": [
    {
     "name": "stdout",
     "output_type": "stream",
     "text": [
      "6\n",
      "12\n"
     ]
    }
   ],
   "source": [
    "# Cambiando valor de mi atributo (Set)\n",
    "\n",
    "e.radio_menor = 6\n",
    "e.radio_mayor = 12\n",
    "\n",
    "print(e.radio_menor)\n",
    "print(e.radio_mayor)"
   ]
  },
  {
   "cell_type": "code",
   "execution_count": 65,
   "id": "053a43e4",
   "metadata": {},
   "outputs": [
    {
     "data": {
      "text/plain": [
       "59.60752959477661"
      ]
     },
     "execution_count": 65,
     "metadata": {},
     "output_type": "execute_result"
    }
   ],
   "source": [
    "# Probando el método perímetro\n",
    "\n",
    "e.perimetro()"
   ]
  },
  {
   "cell_type": "code",
   "execution_count": 66,
   "id": "009d816d",
   "metadata": {},
   "outputs": [
    {
     "data": {
      "text/plain": [
       "226.1946710584651"
      ]
     },
     "execution_count": 66,
     "metadata": {},
     "output_type": "execute_result"
    }
   ],
   "source": [
    "# Probando el método área\n",
    "\n",
    "e.area()"
   ]
  },
  {
   "cell_type": "code",
   "execution_count": null,
   "id": "18518595",
   "metadata": {},
   "outputs": [
    {
     "name": "stdout",
     "output_type": "stream",
     "text": [
      "Elipse: (6.00, 12.00 )\n"
     ]
    }
   ],
   "source": [
    "# Método dunder\n",
    "print(e)"
   ]
  },
  {
   "cell_type": "code",
   "execution_count": 70,
   "id": "9167b515",
   "metadata": {},
   "outputs": [
    {
     "name": "stdout",
     "output_type": "stream",
     "text": [
      "Alguno de los valores no es númerico, por favor introduce un valor numérico\n",
      "Alguno de los valores no es númerico, por favor introduce un valor numérico\n",
      "Alguno de los valores no es númerico, por favor introduce un valor numérico\n"
     ]
    }
   ],
   "source": [
    "# Probando errores en el constructor\n",
    "\n",
    "e_1 = Elipse(\"Hola\", 2)\n",
    "e_2 = Elipse(2,\"4\")\n",
    "e_3 = Elipse(\"2\", \"5\")\n"
   ]
  },
  {
   "cell_type": "code",
   "execution_count": null,
   "id": "664072f5",
   "metadata": {},
   "outputs": [
    {
     "name": "stdout",
     "output_type": "stream",
     "text": [
      "El valor no es númerico, por favor introduce un valor numérico\n",
      "El valor no es númerico, por favor introduce un valor numérico\n"
     ]
    }
   ],
   "source": [
    "# Probando errores en el set\n",
    "\n",
    "e.radio_menor = \"Hola\"\n",
    "e.radio_mayor = \"4\""
   ]
  },
  {
   "cell_type": "markdown",
   "id": "ec73ab8e",
   "metadata": {},
   "source": [
    "#### 3. DesarrolleenPython (estiloPythónico)laclaseOperación,quetienecomoatributos dos listas numéricas X y Y, luego defina los métodos:\n",
    "\n",
    "#### __init__: Tanto el constructor como el set deben verificar que ambas listas sean de igual tamaño.\n",
    "#### Sumatoria: Suma ambas listas y devuelve el resultado.\n",
    "#### Matriz: Une ambas listas como una matriz de 2 columnas.\n",
    "#### Producto_Punto: Calcula el producto punto entre ambas listas y devuelve el resultado (que es un número real).\n",
    "#### Menor: Compara una a una las entradas de las listas X y Y, luego retorna la lista con el mayor número de entradas menores, en caso de empate retorna X.\n",
    "#### Interseccion: Retorna en una lista los valores que se encuentran en ambas listas X y Y."
   ]
  },
  {
   "cell_type": "code",
   "execution_count": 112,
   "id": "fa2714ed",
   "metadata": {},
   "outputs": [],
   "source": [
    "# Importando clase Operación\n",
    "\n",
    "from modulo_ejercicio_3A import Operacion"
   ]
  },
  {
   "cell_type": "code",
   "execution_count": 113,
   "id": "204d1085",
   "metadata": {},
   "outputs": [],
   "source": [
    "# Llamando a la clase\n",
    "\n",
    "o = Operacion([10,20,30],[10,25,30])"
   ]
  },
  {
   "cell_type": "code",
   "execution_count": 114,
   "id": "2d733811",
   "metadata": {},
   "outputs": [
    {
     "name": "stdout",
     "output_type": "stream",
     "text": [
      "[10, 20, 30]\n",
      "[10, 25, 30]\n"
     ]
    }
   ],
   "source": [
    "# Viendo los atributos (Get)\n",
    "print(o.X)\n",
    "print(o.Y)"
   ]
  },
  {
   "cell_type": "code",
   "execution_count": 115,
   "id": "24d4e6ab",
   "metadata": {},
   "outputs": [
    {
     "name": "stdout",
     "output_type": "stream",
     "text": [
      "[10, 20, 40]\n",
      "[20, 10, 30]\n"
     ]
    }
   ],
   "source": [
    "# Cambiando valor de mi atributo (Set)\n",
    "\n",
    "o.X = [10,20,40]\n",
    "o.Y = [20,10,30]\n",
    "\n",
    "print(o.X)\n",
    "print(o.Y)"
   ]
  },
  {
   "cell_type": "code",
   "execution_count": 116,
   "id": "c8cef518",
   "metadata": {},
   "outputs": [
    {
     "data": {
      "text/plain": [
       "[30, 30, 70]"
      ]
     },
     "execution_count": 116,
     "metadata": {},
     "output_type": "execute_result"
    }
   ],
   "source": [
    "# Probando el método Sumatoria\n",
    "## En caso que se sume por cada uno de los indices\n",
    "\n",
    "o.Sumatoria()"
   ]
  },
  {
   "cell_type": "code",
   "execution_count": 117,
   "id": "0ebbb24b",
   "metadata": {},
   "outputs": [
    {
     "data": {
      "text/plain": [
       "130"
      ]
     },
     "execution_count": 117,
     "metadata": {},
     "output_type": "execute_result"
    }
   ],
   "source": [
    "## En caso que sea la sumatoria total de todos los elementos de la lista\n",
    "\n",
    "o.Sumatoria_2()"
   ]
  },
  {
   "cell_type": "code",
   "execution_count": 118,
   "id": "031a2c40",
   "metadata": {},
   "outputs": [
    {
     "data": {
      "text/html": [
       "<div>\n",
       "<style scoped>\n",
       "    .dataframe tbody tr th:only-of-type {\n",
       "        vertical-align: middle;\n",
       "    }\n",
       "\n",
       "    .dataframe tbody tr th {\n",
       "        vertical-align: top;\n",
       "    }\n",
       "\n",
       "    .dataframe thead th {\n",
       "        text-align: right;\n",
       "    }\n",
       "</style>\n",
       "<table border=\"1\" class=\"dataframe\">\n",
       "  <thead>\n",
       "    <tr style=\"text-align: right;\">\n",
       "      <th></th>\n",
       "      <th>Lista X</th>\n",
       "      <th>Lista Y</th>\n",
       "    </tr>\n",
       "  </thead>\n",
       "  <tbody>\n",
       "    <tr>\n",
       "      <th>0</th>\n",
       "      <td>10</td>\n",
       "      <td>20</td>\n",
       "    </tr>\n",
       "    <tr>\n",
       "      <th>1</th>\n",
       "      <td>20</td>\n",
       "      <td>10</td>\n",
       "    </tr>\n",
       "    <tr>\n",
       "      <th>2</th>\n",
       "      <td>40</td>\n",
       "      <td>30</td>\n",
       "    </tr>\n",
       "  </tbody>\n",
       "</table>\n",
       "</div>"
      ],
      "text/plain": [
       "   Lista X  Lista Y\n",
       "0       10       20\n",
       "1       20       10\n",
       "2       40       30"
      ]
     },
     "execution_count": 118,
     "metadata": {},
     "output_type": "execute_result"
    }
   ],
   "source": [
    "# Para ver la lista en una matriz\n",
    "\n",
    "o.Matriz()"
   ]
  },
  {
   "cell_type": "code",
   "execution_count": 119,
   "id": "a1b58a29",
   "metadata": {},
   "outputs": [
    {
     "data": {
      "text/plain": [
       "[[10, 20], [20, 10], [40, 30]]"
      ]
     },
     "execution_count": 119,
     "metadata": {},
     "output_type": "execute_result"
    }
   ],
   "source": [
    "# Para ver la lista en una matriz 2.0\n",
    "\n",
    "o.Matriz_2()"
   ]
  },
  {
   "cell_type": "code",
   "execution_count": 123,
   "id": "4c437a0e",
   "metadata": {},
   "outputs": [
    {
     "data": {
      "text/plain": [
       "1600"
      ]
     },
     "execution_count": 123,
     "metadata": {},
     "output_type": "execute_result"
    }
   ],
   "source": [
    "# Para ver el Producto Punto\n",
    "\n",
    "o.Producto_Punto()"
   ]
  },
  {
   "cell_type": "code",
   "execution_count": 120,
   "id": "f2c1f53a",
   "metadata": {},
   "outputs": [
    {
     "data": {
      "text/plain": [
       "[20, 10, 30]"
      ]
     },
     "execution_count": 120,
     "metadata": {},
     "output_type": "execute_result"
    }
   ],
   "source": [
    "# Para ver que lista tiene la mayor cantidad de números menores\n",
    "\n",
    "o.Menor()"
   ]
  },
  {
   "cell_type": "code",
   "execution_count": 121,
   "id": "e1eb0e7a",
   "metadata": {},
   "outputs": [
    {
     "name": "stdout",
     "output_type": "stream",
     "text": [
      "[10, 20, 40]\n",
      "[20, 10, 30]\n"
     ]
    },
    {
     "data": {
      "text/plain": [
       "[10, 20]"
      ]
     },
     "execution_count": 121,
     "metadata": {},
     "output_type": "execute_result"
    }
   ],
   "source": [
    "# Para ver la intersección\n",
    "\n",
    "print(o.X)\n",
    "print(o.Y)\n",
    "\n",
    "o.Interseccion()"
   ]
  },
  {
   "cell_type": "code",
   "execution_count": 124,
   "id": "68938e4f",
   "metadata": {},
   "outputs": [
    {
     "name": "stdout",
     "output_type": "stream",
     "text": [
      "Las listas X y Y son: ([10, 20, 40], [20, 10, 30]) \n"
     ]
    }
   ],
   "source": [
    "# Método dunder\n",
    "\n",
    "print(o)"
   ]
  },
  {
   "cell_type": "code",
   "execution_count": 125,
   "id": "4a12ece4",
   "metadata": {},
   "outputs": [
    {
     "name": "stdout",
     "output_type": "stream",
     "text": [
      "Las listas deben tener la misma cantidad de registros\n"
     ]
    }
   ],
   "source": [
    "# Probando errores en el constructor\n",
    "\n",
    "o_1 = Operacion([10,5], [4])"
   ]
  },
  {
   "cell_type": "code",
   "execution_count": 127,
   "id": "740f0b96",
   "metadata": {},
   "outputs": [
    {
     "name": "stdout",
     "output_type": "stream",
     "text": [
      "[10, 20, 40]\n",
      "[20, 10, 30]\n",
      "Las listas deben tener la misma cantidad de registros\n"
     ]
    }
   ],
   "source": [
    "# Probando errores en el set\n",
    "\n",
    "print(o.X)\n",
    "print(o.Y)\n",
    "\n",
    "o.X = [10,5]"
   ]
  },
  {
   "cell_type": "markdown",
   "id": "c3554c97",
   "metadata": {},
   "source": [
    "#### 4. Programe una clase en Python (estilo Pythónico) denominada TablaDatos que tiene como atributo un DataFrame de Pandas. Además, programe los siguientes métodos:\n",
    "\n",
    "##### variables_categoricas: Este debe ser un método privado que retorna un vector con los números de columna de aquellas columnas que son categóricas.\n",
    "##### variables_numericas: Este debe ser un método privado que retorna un vector con los números de columna de aquellas columnas que son númericas.\n",
    "##### resumen_columnas:Retornaundiccionariousandocomollavelosnombresdelasvariables, que incluya la media para las variables númericas y la moda para las variables categóricas.\n",
    "##### producto_punto: Recibe 2 números de columna y retorna en un diccionario el nombre de las 2 variables y el producto punto entre esas dos variables.\n",
    "##### renombrar_columnas: Recibe un nombre y una posición. Debe reemplazar el nombre de la columna en la posición indicada por el parámetro.\n",
    "##### eliminar_columna: Recibe un nombre de columna y la elimina de la tabla de datos."
   ]
  },
  {
   "cell_type": "code",
   "execution_count": 207,
   "id": "e501f8bf",
   "metadata": {},
   "outputs": [],
   "source": [
    "from modulo_ejercicio_4ABC import TablaDatos"
   ]
  },
  {
   "cell_type": "code",
   "execution_count": 208,
   "id": "c33d20b7",
   "metadata": {},
   "outputs": [],
   "source": [
    "import pandas as pd\n",
    "\n",
    "# Cargando df clima para pruebaas \n",
    "url = \"https://raw.githubusercontent.com/AdoCrz/ClimaDataSet/main/clima.csv\"\n",
    "df_c = pd.read_csv(url, sep = ';', header = 0, decimal='.', index_col= None)"
   ]
  },
  {
   "cell_type": "code",
   "execution_count": 209,
   "id": "4c3c6c8b",
   "metadata": {},
   "outputs": [],
   "source": [
    "## Llamando la clase TablaDatos\n",
    "\n",
    "df_a = TablaDatos(df_c)"
   ]
  },
  {
   "cell_type": "code",
   "execution_count": 210,
   "id": "2ea858c6",
   "metadata": {},
   "outputs": [
    {
     "data": {
      "text/html": [
       "<div>\n",
       "<style scoped>\n",
       "    .dataframe tbody tr th:only-of-type {\n",
       "        vertical-align: middle;\n",
       "    }\n",
       "\n",
       "    .dataframe tbody tr th {\n",
       "        vertical-align: top;\n",
       "    }\n",
       "\n",
       "    .dataframe thead th {\n",
       "        text-align: right;\n",
       "    }\n",
       "</style>\n",
       "<table border=\"1\" class=\"dataframe\">\n",
       "  <thead>\n",
       "    <tr style=\"text-align: right;\">\n",
       "      <th></th>\n",
       "      <th>temperatura</th>\n",
       "      <th>punto_rocio</th>\n",
       "      <th>humedad</th>\n",
       "      <th>direccion_viento</th>\n",
       "      <th>velocidad_viento</th>\n",
       "      <th>velocidad_rafaga</th>\n",
       "      <th>precipitacion</th>\n",
       "      <th>presion</th>\n",
       "      <th>visibilidad</th>\n",
       "    </tr>\n",
       "  </thead>\n",
       "  <tbody>\n",
       "    <tr>\n",
       "      <th>0</th>\n",
       "      <td>37.04</td>\n",
       "      <td>19.94</td>\n",
       "      <td>49.62</td>\n",
       "      <td>300</td>\n",
       "      <td>13.80936</td>\n",
       "      <td>20.71404</td>\n",
       "      <td>0.0</td>\n",
       "      <td>1012.1</td>\n",
       "      <td>10.0</td>\n",
       "    </tr>\n",
       "    <tr>\n",
       "      <th>1</th>\n",
       "      <td>33.98</td>\n",
       "      <td>15.08</td>\n",
       "      <td>45.43</td>\n",
       "      <td>310</td>\n",
       "      <td>12.65858</td>\n",
       "      <td>25.31716</td>\n",
       "      <td>0.0</td>\n",
       "      <td>1014.1</td>\n",
       "      <td>10.0</td>\n",
       "    </tr>\n",
       "    <tr>\n",
       "      <th>2</th>\n",
       "      <td>30.02</td>\n",
       "      <td>12.92</td>\n",
       "      <td>48.48</td>\n",
       "      <td>320</td>\n",
       "      <td>18.41248</td>\n",
       "      <td>26.46794</td>\n",
       "      <td>0.0</td>\n",
       "      <td>1016.0</td>\n",
       "      <td>10.0</td>\n",
       "    </tr>\n",
       "    <tr>\n",
       "      <th>3</th>\n",
       "      <td>28.94</td>\n",
       "      <td>12.02</td>\n",
       "      <td>48.69</td>\n",
       "      <td>320</td>\n",
       "      <td>18.41248</td>\n",
       "      <td>25.31716</td>\n",
       "      <td>0.0</td>\n",
       "      <td>1016.5</td>\n",
       "      <td>10.0</td>\n",
       "    </tr>\n",
       "    <tr>\n",
       "      <th>4</th>\n",
       "      <td>26.96</td>\n",
       "      <td>10.94</td>\n",
       "      <td>50.34</td>\n",
       "      <td>310</td>\n",
       "      <td>14.96014</td>\n",
       "      <td>25.31716</td>\n",
       "      <td>0.0</td>\n",
       "      <td>1016.3</td>\n",
       "      <td>10.0</td>\n",
       "    </tr>\n",
       "    <tr>\n",
       "      <th>...</th>\n",
       "      <td>...</td>\n",
       "      <td>...</td>\n",
       "      <td>...</td>\n",
       "      <td>...</td>\n",
       "      <td>...</td>\n",
       "      <td>...</td>\n",
       "      <td>...</td>\n",
       "      <td>...</td>\n",
       "      <td>...</td>\n",
       "    </tr>\n",
       "    <tr>\n",
       "      <th>523</th>\n",
       "      <td>42.08</td>\n",
       "      <td>17.96</td>\n",
       "      <td>37.46</td>\n",
       "      <td>310</td>\n",
       "      <td>13.80936</td>\n",
       "      <td>25.31716</td>\n",
       "      <td>0.0</td>\n",
       "      <td>1012.7</td>\n",
       "      <td>10.0</td>\n",
       "    </tr>\n",
       "    <tr>\n",
       "      <th>524</th>\n",
       "      <td>42.98</td>\n",
       "      <td>19.04</td>\n",
       "      <td>37.90</td>\n",
       "      <td>350</td>\n",
       "      <td>10.35702</td>\n",
       "      <td>18.41248</td>\n",
       "      <td>0.0</td>\n",
       "      <td>1011.5</td>\n",
       "      <td>10.0</td>\n",
       "    </tr>\n",
       "    <tr>\n",
       "      <th>525</th>\n",
       "      <td>44.96</td>\n",
       "      <td>19.04</td>\n",
       "      <td>35.14</td>\n",
       "      <td>340</td>\n",
       "      <td>14.96014</td>\n",
       "      <td>23.01560</td>\n",
       "      <td>0.0</td>\n",
       "      <td>1010.4</td>\n",
       "      <td>10.0</td>\n",
       "    </tr>\n",
       "    <tr>\n",
       "      <th>526</th>\n",
       "      <td>39.92</td>\n",
       "      <td>26.06</td>\n",
       "      <td>57.33</td>\n",
       "      <td>40</td>\n",
       "      <td>17.26170</td>\n",
       "      <td>23.01560</td>\n",
       "      <td>0.0</td>\n",
       "      <td>1002.8</td>\n",
       "      <td>10.0</td>\n",
       "    </tr>\n",
       "    <tr>\n",
       "      <th>527</th>\n",
       "      <td>39.02</td>\n",
       "      <td>24.98</td>\n",
       "      <td>56.77</td>\n",
       "      <td>60</td>\n",
       "      <td>18.41248</td>\n",
       "      <td>26.46794</td>\n",
       "      <td>0.0</td>\n",
       "      <td>1002.2</td>\n",
       "      <td>10.0</td>\n",
       "    </tr>\n",
       "  </tbody>\n",
       "</table>\n",
       "<p>528 rows × 9 columns</p>\n",
       "</div>"
      ],
      "text/plain": [
       "     temperatura  punto_rocio  humedad  ...  precipitacion  presion  visibilidad\n",
       "0          37.04        19.94    49.62  ...            0.0   1012.1         10.0\n",
       "1          33.98        15.08    45.43  ...            0.0   1014.1         10.0\n",
       "2          30.02        12.92    48.48  ...            0.0   1016.0         10.0\n",
       "3          28.94        12.02    48.69  ...            0.0   1016.5         10.0\n",
       "4          26.96        10.94    50.34  ...            0.0   1016.3         10.0\n",
       "..           ...          ...      ...  ...            ...      ...          ...\n",
       "523        42.08        17.96    37.46  ...            0.0   1012.7         10.0\n",
       "524        42.98        19.04    37.90  ...            0.0   1011.5         10.0\n",
       "525        44.96        19.04    35.14  ...            0.0   1010.4         10.0\n",
       "526        39.92        26.06    57.33  ...            0.0   1002.8         10.0\n",
       "527        39.02        24.98    56.77  ...            0.0   1002.2         10.0\n",
       "\n",
       "[528 rows x 9 columns]"
      ]
     },
     "execution_count": 210,
     "metadata": {},
     "output_type": "execute_result"
    }
   ],
   "source": [
    "# Viendo los atributos\n",
    "\n",
    "df_a.df"
   ]
  },
  {
   "cell_type": "code",
   "execution_count": 211,
   "id": "312cf300",
   "metadata": {},
   "outputs": [
    {
     "data": {
      "text/plain": [
       "{'temperatura': 35.901022727272725,\n",
       " 'punto_rocio': 16.760681818181816,\n",
       " 'humedad': 47.24882575757575,\n",
       " 'direccion_viento': 267.89772727272725,\n",
       " 'velocidad_viento': 17.22682787878788,\n",
       " 'velocidad_rafaga': 26.05383356060606,\n",
       " 'precipitacion': 0.0030871212121212125,\n",
       " 'presion': 1014.2456439393939,\n",
       " 'visibilidad': 9.758522727272727}"
      ]
     },
     "execution_count": 211,
     "metadata": {},
     "output_type": "execute_result"
    }
   ],
   "source": [
    "# Para ver el resumen de columnas\n",
    "\n",
    "df_a.resumen_columnas()"
   ]
  },
  {
   "cell_type": "code",
   "execution_count": 212,
   "id": "2798d30b",
   "metadata": {},
   "outputs": [
    {
     "data": {
      "text/plain": [
       "{'Columna 1': 'humedad',\n",
       " 'Columna 2': 'direccion_viento',\n",
       " 'Producto Punto: ': 6379530.5}"
      ]
     },
     "execution_count": 212,
     "metadata": {},
     "output_type": "execute_result"
    }
   ],
   "source": [
    "# Para ver el producto punto\n",
    "\n",
    "df_a.producto_punto(2,3)"
   ]
  },
  {
   "cell_type": "code",
   "execution_count": 213,
   "id": "2a04862a",
   "metadata": {},
   "outputs": [
    {
     "name": "stdout",
     "output_type": "stream",
     "text": [
      "Alguno de los números de columna no es númerico\n"
     ]
    }
   ],
   "source": [
    "## Probando error en producto_punto\n",
    "\n",
    "df_a.producto_punto(2,\"B\")"
   ]
  },
  {
   "cell_type": "code",
   "execution_count": 214,
   "id": "3f8e9dd4",
   "metadata": {},
   "outputs": [],
   "source": [
    "# Método para renombrar columna\n",
    "\n",
    "df_a.renombrar_columnas(\"TemperaturaPrueba\", 0)"
   ]
  },
  {
   "cell_type": "code",
   "execution_count": 215,
   "id": "bede7e1e",
   "metadata": {},
   "outputs": [
    {
     "data": {
      "text/html": [
       "<div>\n",
       "<style scoped>\n",
       "    .dataframe tbody tr th:only-of-type {\n",
       "        vertical-align: middle;\n",
       "    }\n",
       "\n",
       "    .dataframe tbody tr th {\n",
       "        vertical-align: top;\n",
       "    }\n",
       "\n",
       "    .dataframe thead th {\n",
       "        text-align: right;\n",
       "    }\n",
       "</style>\n",
       "<table border=\"1\" class=\"dataframe\">\n",
       "  <thead>\n",
       "    <tr style=\"text-align: right;\">\n",
       "      <th></th>\n",
       "      <th>TemperaturaPrueba</th>\n",
       "      <th>punto_rocio</th>\n",
       "      <th>humedad</th>\n",
       "      <th>direccion_viento</th>\n",
       "      <th>velocidad_viento</th>\n",
       "      <th>velocidad_rafaga</th>\n",
       "      <th>precipitacion</th>\n",
       "      <th>presion</th>\n",
       "      <th>visibilidad</th>\n",
       "    </tr>\n",
       "  </thead>\n",
       "  <tbody>\n",
       "    <tr>\n",
       "      <th>0</th>\n",
       "      <td>37.04</td>\n",
       "      <td>19.94</td>\n",
       "      <td>49.62</td>\n",
       "      <td>300</td>\n",
       "      <td>13.80936</td>\n",
       "      <td>20.71404</td>\n",
       "      <td>0.0</td>\n",
       "      <td>1012.1</td>\n",
       "      <td>10.0</td>\n",
       "    </tr>\n",
       "    <tr>\n",
       "      <th>1</th>\n",
       "      <td>33.98</td>\n",
       "      <td>15.08</td>\n",
       "      <td>45.43</td>\n",
       "      <td>310</td>\n",
       "      <td>12.65858</td>\n",
       "      <td>25.31716</td>\n",
       "      <td>0.0</td>\n",
       "      <td>1014.1</td>\n",
       "      <td>10.0</td>\n",
       "    </tr>\n",
       "    <tr>\n",
       "      <th>2</th>\n",
       "      <td>30.02</td>\n",
       "      <td>12.92</td>\n",
       "      <td>48.48</td>\n",
       "      <td>320</td>\n",
       "      <td>18.41248</td>\n",
       "      <td>26.46794</td>\n",
       "      <td>0.0</td>\n",
       "      <td>1016.0</td>\n",
       "      <td>10.0</td>\n",
       "    </tr>\n",
       "    <tr>\n",
       "      <th>3</th>\n",
       "      <td>28.94</td>\n",
       "      <td>12.02</td>\n",
       "      <td>48.69</td>\n",
       "      <td>320</td>\n",
       "      <td>18.41248</td>\n",
       "      <td>25.31716</td>\n",
       "      <td>0.0</td>\n",
       "      <td>1016.5</td>\n",
       "      <td>10.0</td>\n",
       "    </tr>\n",
       "    <tr>\n",
       "      <th>4</th>\n",
       "      <td>26.96</td>\n",
       "      <td>10.94</td>\n",
       "      <td>50.34</td>\n",
       "      <td>310</td>\n",
       "      <td>14.96014</td>\n",
       "      <td>25.31716</td>\n",
       "      <td>0.0</td>\n",
       "      <td>1016.3</td>\n",
       "      <td>10.0</td>\n",
       "    </tr>\n",
       "    <tr>\n",
       "      <th>...</th>\n",
       "      <td>...</td>\n",
       "      <td>...</td>\n",
       "      <td>...</td>\n",
       "      <td>...</td>\n",
       "      <td>...</td>\n",
       "      <td>...</td>\n",
       "      <td>...</td>\n",
       "      <td>...</td>\n",
       "      <td>...</td>\n",
       "    </tr>\n",
       "    <tr>\n",
       "      <th>523</th>\n",
       "      <td>42.08</td>\n",
       "      <td>17.96</td>\n",
       "      <td>37.46</td>\n",
       "      <td>310</td>\n",
       "      <td>13.80936</td>\n",
       "      <td>25.31716</td>\n",
       "      <td>0.0</td>\n",
       "      <td>1012.7</td>\n",
       "      <td>10.0</td>\n",
       "    </tr>\n",
       "    <tr>\n",
       "      <th>524</th>\n",
       "      <td>42.98</td>\n",
       "      <td>19.04</td>\n",
       "      <td>37.90</td>\n",
       "      <td>350</td>\n",
       "      <td>10.35702</td>\n",
       "      <td>18.41248</td>\n",
       "      <td>0.0</td>\n",
       "      <td>1011.5</td>\n",
       "      <td>10.0</td>\n",
       "    </tr>\n",
       "    <tr>\n",
       "      <th>525</th>\n",
       "      <td>44.96</td>\n",
       "      <td>19.04</td>\n",
       "      <td>35.14</td>\n",
       "      <td>340</td>\n",
       "      <td>14.96014</td>\n",
       "      <td>23.01560</td>\n",
       "      <td>0.0</td>\n",
       "      <td>1010.4</td>\n",
       "      <td>10.0</td>\n",
       "    </tr>\n",
       "    <tr>\n",
       "      <th>526</th>\n",
       "      <td>39.92</td>\n",
       "      <td>26.06</td>\n",
       "      <td>57.33</td>\n",
       "      <td>40</td>\n",
       "      <td>17.26170</td>\n",
       "      <td>23.01560</td>\n",
       "      <td>0.0</td>\n",
       "      <td>1002.8</td>\n",
       "      <td>10.0</td>\n",
       "    </tr>\n",
       "    <tr>\n",
       "      <th>527</th>\n",
       "      <td>39.02</td>\n",
       "      <td>24.98</td>\n",
       "      <td>56.77</td>\n",
       "      <td>60</td>\n",
       "      <td>18.41248</td>\n",
       "      <td>26.46794</td>\n",
       "      <td>0.0</td>\n",
       "      <td>1002.2</td>\n",
       "      <td>10.0</td>\n",
       "    </tr>\n",
       "  </tbody>\n",
       "</table>\n",
       "<p>528 rows × 9 columns</p>\n",
       "</div>"
      ],
      "text/plain": [
       "     TemperaturaPrueba  punto_rocio  ...  presion  visibilidad\n",
       "0                37.04        19.94  ...   1012.1         10.0\n",
       "1                33.98        15.08  ...   1014.1         10.0\n",
       "2                30.02        12.92  ...   1016.0         10.0\n",
       "3                28.94        12.02  ...   1016.5         10.0\n",
       "4                26.96        10.94  ...   1016.3         10.0\n",
       "..                 ...          ...  ...      ...          ...\n",
       "523              42.08        17.96  ...   1012.7         10.0\n",
       "524              42.98        19.04  ...   1011.5         10.0\n",
       "525              44.96        19.04  ...   1010.4         10.0\n",
       "526              39.92        26.06  ...   1002.8         10.0\n",
       "527              39.02        24.98  ...   1002.2         10.0\n",
       "\n",
       "[528 rows x 9 columns]"
      ]
     },
     "execution_count": 215,
     "metadata": {},
     "output_type": "execute_result"
    }
   ],
   "source": [
    "df_a.df"
   ]
  },
  {
   "cell_type": "code",
   "execution_count": 217,
   "id": "62446902",
   "metadata": {},
   "outputs": [],
   "source": [
    "# Método para eliminar columna\n",
    "\n",
    "df_a.eliminar_columna(\"TemperaturaPrueba\")"
   ]
  },
  {
   "cell_type": "code",
   "execution_count": 218,
   "id": "e49ca039",
   "metadata": {},
   "outputs": [
    {
     "data": {
      "text/html": [
       "<div>\n",
       "<style scoped>\n",
       "    .dataframe tbody tr th:only-of-type {\n",
       "        vertical-align: middle;\n",
       "    }\n",
       "\n",
       "    .dataframe tbody tr th {\n",
       "        vertical-align: top;\n",
       "    }\n",
       "\n",
       "    .dataframe thead th {\n",
       "        text-align: right;\n",
       "    }\n",
       "</style>\n",
       "<table border=\"1\" class=\"dataframe\">\n",
       "  <thead>\n",
       "    <tr style=\"text-align: right;\">\n",
       "      <th></th>\n",
       "      <th>punto_rocio</th>\n",
       "      <th>humedad</th>\n",
       "      <th>direccion_viento</th>\n",
       "      <th>velocidad_viento</th>\n",
       "      <th>velocidad_rafaga</th>\n",
       "      <th>precipitacion</th>\n",
       "      <th>presion</th>\n",
       "      <th>visibilidad</th>\n",
       "    </tr>\n",
       "  </thead>\n",
       "  <tbody>\n",
       "    <tr>\n",
       "      <th>0</th>\n",
       "      <td>19.94</td>\n",
       "      <td>49.62</td>\n",
       "      <td>300</td>\n",
       "      <td>13.80936</td>\n",
       "      <td>20.71404</td>\n",
       "      <td>0.0</td>\n",
       "      <td>1012.1</td>\n",
       "      <td>10.0</td>\n",
       "    </tr>\n",
       "    <tr>\n",
       "      <th>1</th>\n",
       "      <td>15.08</td>\n",
       "      <td>45.43</td>\n",
       "      <td>310</td>\n",
       "      <td>12.65858</td>\n",
       "      <td>25.31716</td>\n",
       "      <td>0.0</td>\n",
       "      <td>1014.1</td>\n",
       "      <td>10.0</td>\n",
       "    </tr>\n",
       "    <tr>\n",
       "      <th>2</th>\n",
       "      <td>12.92</td>\n",
       "      <td>48.48</td>\n",
       "      <td>320</td>\n",
       "      <td>18.41248</td>\n",
       "      <td>26.46794</td>\n",
       "      <td>0.0</td>\n",
       "      <td>1016.0</td>\n",
       "      <td>10.0</td>\n",
       "    </tr>\n",
       "    <tr>\n",
       "      <th>3</th>\n",
       "      <td>12.02</td>\n",
       "      <td>48.69</td>\n",
       "      <td>320</td>\n",
       "      <td>18.41248</td>\n",
       "      <td>25.31716</td>\n",
       "      <td>0.0</td>\n",
       "      <td>1016.5</td>\n",
       "      <td>10.0</td>\n",
       "    </tr>\n",
       "    <tr>\n",
       "      <th>4</th>\n",
       "      <td>10.94</td>\n",
       "      <td>50.34</td>\n",
       "      <td>310</td>\n",
       "      <td>14.96014</td>\n",
       "      <td>25.31716</td>\n",
       "      <td>0.0</td>\n",
       "      <td>1016.3</td>\n",
       "      <td>10.0</td>\n",
       "    </tr>\n",
       "    <tr>\n",
       "      <th>...</th>\n",
       "      <td>...</td>\n",
       "      <td>...</td>\n",
       "      <td>...</td>\n",
       "      <td>...</td>\n",
       "      <td>...</td>\n",
       "      <td>...</td>\n",
       "      <td>...</td>\n",
       "      <td>...</td>\n",
       "    </tr>\n",
       "    <tr>\n",
       "      <th>523</th>\n",
       "      <td>17.96</td>\n",
       "      <td>37.46</td>\n",
       "      <td>310</td>\n",
       "      <td>13.80936</td>\n",
       "      <td>25.31716</td>\n",
       "      <td>0.0</td>\n",
       "      <td>1012.7</td>\n",
       "      <td>10.0</td>\n",
       "    </tr>\n",
       "    <tr>\n",
       "      <th>524</th>\n",
       "      <td>19.04</td>\n",
       "      <td>37.90</td>\n",
       "      <td>350</td>\n",
       "      <td>10.35702</td>\n",
       "      <td>18.41248</td>\n",
       "      <td>0.0</td>\n",
       "      <td>1011.5</td>\n",
       "      <td>10.0</td>\n",
       "    </tr>\n",
       "    <tr>\n",
       "      <th>525</th>\n",
       "      <td>19.04</td>\n",
       "      <td>35.14</td>\n",
       "      <td>340</td>\n",
       "      <td>14.96014</td>\n",
       "      <td>23.01560</td>\n",
       "      <td>0.0</td>\n",
       "      <td>1010.4</td>\n",
       "      <td>10.0</td>\n",
       "    </tr>\n",
       "    <tr>\n",
       "      <th>526</th>\n",
       "      <td>26.06</td>\n",
       "      <td>57.33</td>\n",
       "      <td>40</td>\n",
       "      <td>17.26170</td>\n",
       "      <td>23.01560</td>\n",
       "      <td>0.0</td>\n",
       "      <td>1002.8</td>\n",
       "      <td>10.0</td>\n",
       "    </tr>\n",
       "    <tr>\n",
       "      <th>527</th>\n",
       "      <td>24.98</td>\n",
       "      <td>56.77</td>\n",
       "      <td>60</td>\n",
       "      <td>18.41248</td>\n",
       "      <td>26.46794</td>\n",
       "      <td>0.0</td>\n",
       "      <td>1002.2</td>\n",
       "      <td>10.0</td>\n",
       "    </tr>\n",
       "  </tbody>\n",
       "</table>\n",
       "<p>528 rows × 8 columns</p>\n",
       "</div>"
      ],
      "text/plain": [
       "     punto_rocio  humedad  ...  presion  visibilidad\n",
       "0          19.94    49.62  ...   1012.1         10.0\n",
       "1          15.08    45.43  ...   1014.1         10.0\n",
       "2          12.92    48.48  ...   1016.0         10.0\n",
       "3          12.02    48.69  ...   1016.5         10.0\n",
       "4          10.94    50.34  ...   1016.3         10.0\n",
       "..           ...      ...  ...      ...          ...\n",
       "523        17.96    37.46  ...   1012.7         10.0\n",
       "524        19.04    37.90  ...   1011.5         10.0\n",
       "525        19.04    35.14  ...   1010.4         10.0\n",
       "526        26.06    57.33  ...   1002.8         10.0\n",
       "527        24.98    56.77  ...   1002.2         10.0\n",
       "\n",
       "[528 rows x 8 columns]"
      ]
     },
     "execution_count": 218,
     "metadata": {},
     "output_type": "execute_result"
    }
   ],
   "source": [
    "df_a.df"
   ]
  },
  {
   "cell_type": "code",
   "execution_count": 219,
   "id": "381fa46f",
   "metadata": {},
   "outputs": [
    {
     "data": {
      "text/plain": [
       "\"La columna 'Hola' no existe en el DataFrame\""
      ]
     },
     "execution_count": 219,
     "metadata": {},
     "output_type": "execute_result"
    }
   ],
   "source": [
    "# Comprobando error en el método eiminar_columna\n",
    "\n",
    "df_a.eliminar_columna(\"Hola\")\n"
   ]
  },
  {
   "cell_type": "code",
   "execution_count": 220,
   "id": "7a4c263d",
   "metadata": {},
   "outputs": [
    {
     "name": "stdout",
     "output_type": "stream",
     "text": [
      "Data Frame:      punto_rocio  humedad  ...  presion  visibilidad\n",
      "0          19.94    49.62  ...   1012.1         10.0\n",
      "1          15.08    45.43  ...   1014.1         10.0\n",
      "2          12.92    48.48  ...   1016.0         10.0\n",
      "3          12.02    48.69  ...   1016.5         10.0\n",
      "4          10.94    50.34  ...   1016.3         10.0\n",
      "..           ...      ...  ...      ...          ...\n",
      "523        17.96    37.46  ...   1012.7         10.0\n",
      "524        19.04    37.90  ...   1011.5         10.0\n",
      "525        19.04    35.14  ...   1010.4         10.0\n",
      "526        26.06    57.33  ...   1002.8         10.0\n",
      "527        24.98    56.77  ...   1002.2         10.0\n",
      "\n",
      "[528 rows x 8 columns]\n"
     ]
    }
   ],
   "source": [
    "# Método Dunder\n",
    "\n",
    "print(df_a)"
   ]
  },
  {
   "cell_type": "code",
   "execution_count": 230,
   "id": "d0ba7133",
   "metadata": {},
   "outputs": [],
   "source": [
    "dic = {\"Nombre\" : [\"Adolfo\", \"Adolfo\", \"Karla\"], \n",
    "       \"Edad\" : [20,20,10]}\n",
    "df_Prueba = pd.DataFrame(dic)"
   ]
  },
  {
   "cell_type": "code",
   "execution_count": 236,
   "id": "1a4036da",
   "metadata": {},
   "outputs": [
    {
     "data": {
      "text/plain": [
       "Nombre    object\n",
       "Edad       int64\n",
       "dtype: object"
      ]
     },
     "execution_count": 236,
     "metadata": {},
     "output_type": "execute_result"
    }
   ],
   "source": [
    "df_Prueba.dtypes"
   ]
  },
  {
   "cell_type": "code",
   "execution_count": 235,
   "id": "9bd9f74a",
   "metadata": {},
   "outputs": [
    {
     "data": {
      "text/plain": [
       "{'punto_rocio': 16.760681818181816,\n",
       " 'humedad': 47.24882575757575,\n",
       " 'direccion_viento': 267.89772727272725,\n",
       " 'velocidad_viento': 17.22682787878788,\n",
       " 'velocidad_rafaga': 26.05383356060606,\n",
       " 'precipitacion': 0.0030871212121212125,\n",
       " 'presion': 1014.2456439393939,\n",
       " 'visibilidad': 9.758522727272727}"
      ]
     },
     "execution_count": 235,
     "metadata": {},
     "output_type": "execute_result"
    }
   ],
   "source": [
    "df_a.resumen_columnas()"
   ]
  }
 ],
 "metadata": {
  "kernelspec": {
   "display_name": "base",
   "language": "python",
   "name": "python3"
  },
  "language_info": {
   "codemirror_mode": {
    "name": "ipython",
    "version": 3
   },
   "file_extension": ".py",
   "mimetype": "text/x-python",
   "name": "python",
   "nbconvert_exporter": "python",
   "pygments_lexer": "ipython3",
   "version": "3.12.7"
  }
 },
 "nbformat": 4,
 "nbformat_minor": 5
}
