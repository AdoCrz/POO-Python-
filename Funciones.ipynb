{
 "cells": [
  {
   "cell_type": "markdown",
   "id": "6077c769-4f80-47ad-9e48-a5f06d4844f5",
   "metadata": {},
   "source": [
    "## PROMiDAT Iberoamericano\n",
    "## Inteligencia Artificial con Python\n",
    "## ML1000 - Programación Orientada a Objetos\n",
    "\n",
    "# Tarea 2 \n",
    "### **Adolfo Cruz Razo**"
   ]
  },
  {
   "cell_type": "markdown",
   "id": "945bff81",
   "metadata": {},
   "source": [
    "#### 1. Desarrolle una función que determine si un valor es positivo o negativo."
   ]
  },
  {
   "cell_type": "code",
   "execution_count": 290,
   "id": "869b3cfb",
   "metadata": {},
   "outputs": [],
   "source": [
    "# Definiendo función para retornar negativo o positivo\n",
    "\n",
    "def num_negPos (x):\n",
    "    if x > 0:\n",
    "        return f\"El número {x} es positivo\"\n",
    "    elif x < 0:\n",
    "        return f'El número {x} es negativo'\n",
    "    else:\n",
    "        return f'El número es cero'\n",
    "    \n"
   ]
  },
  {
   "cell_type": "code",
   "execution_count": 291,
   "id": "777390c5",
   "metadata": {},
   "outputs": [
    {
     "name": "stdout",
     "output_type": "stream",
     "text": [
      "El número 10 es positivo\n"
     ]
    }
   ],
   "source": [
    "# Ejemplo positivo\n",
    "\n",
    "print(num_negPos(10))"
   ]
  },
  {
   "cell_type": "code",
   "execution_count": 292,
   "id": "a9696ff9",
   "metadata": {},
   "outputs": [
    {
     "name": "stdout",
     "output_type": "stream",
     "text": [
      "El número -10 es negativo\n"
     ]
    }
   ],
   "source": [
    "# Ejemplo negativo\n",
    "\n",
    "print(num_negPos(-10))"
   ]
  },
  {
   "cell_type": "code",
   "execution_count": 293,
   "id": "60acbc42",
   "metadata": {},
   "outputs": [
    {
     "name": "stdout",
     "output_type": "stream",
     "text": [
      "El número es cero\n"
     ]
    }
   ],
   "source": [
    "# Ejemplo cero\n",
    "\n",
    "print(num_negPos(0))"
   ]
  },
  {
   "cell_type": "markdown",
   "id": "d9ff9e26",
   "metadata": {},
   "source": [
    "#### 2. Desarrolle una función que dados los ángulos de un triángulo determine si el triángulo es acutángulo, rectángulo o obtusángulo 1. Realice una prueba para cada una de las posibilidades.\n",
    "\n",
    "#### (acutángulo: todos los ángulos son menor a 90. rectángulo: Uno de sus ángulos es igual a 90. obtusángulo: Uno de sus ángulos es mayor a 90.)"
   ]
  },
  {
   "cell_type": "code",
   "execution_count": 294,
   "id": "465ea5a6",
   "metadata": {},
   "outputs": [],
   "source": [
    "# Definiendo función para retornar el tipo de tríangulo que es\n",
    "\n",
    "def trian (a,b,c):\n",
    "    if a < 90 and b < 90 and c < 90:\n",
    "        return 'El tríangulo es acutángulo'\n",
    "    \n",
    "    elif a == 90 or b == 90 or c == 90:\n",
    "        return 'El tríangulo es rectángulo'\n",
    "    \n",
    "    elif a > 90 or b > 90 or c > 90:\n",
    "        return 'El tríangulo es obtúsangulo'\n",
    "    "
   ]
  },
  {
   "cell_type": "code",
   "execution_count": 295,
   "id": "14c0210a",
   "metadata": {},
   "outputs": [
    {
     "data": {
      "text/plain": [
       "\"\\ndef trian (a,b,c):\\n    if a < 90 and b < 90 and c < 90:\\n        return 'El tríangulo es acutángulo'\\n    elif a == 90 or b == 90 or c == 90:\\n        return 'El tríangulo es rectángulo'\\n    else:\\n        return 'El tríangulo es obtúsangulo'\\n    \\n\""
      ]
     },
     "execution_count": 295,
     "metadata": {},
     "output_type": "execute_result"
    }
   ],
   "source": [
    "## Opción 2 (Se reemplaza el último elif por else)\n",
    "# Definiendo función para retornar el tipo de tríangulo que es\n",
    " \n",
    "'''\n",
    "def trian (a,b,c):\n",
    "    if a < 90 and b < 90 and c < 90:\n",
    "        return 'El tríangulo es acutángulo'\n",
    "    elif a == 90 or b == 90 or c == 90:\n",
    "        return 'El tríangulo es rectángulo'\n",
    "    else:\n",
    "        return 'El tríangulo es obtúsangulo'\n",
    "    \n",
    "'''"
   ]
  },
  {
   "cell_type": "code",
   "execution_count": 296,
   "id": "03608a64",
   "metadata": {},
   "outputs": [
    {
     "name": "stdout",
     "output_type": "stream",
     "text": [
      "El tríangulo es acutángulo\n"
     ]
    }
   ],
   "source": [
    "# Ejemplo tríangulo acutángulo\n",
    "\n",
    "print(trian(80,40,60))"
   ]
  },
  {
   "cell_type": "code",
   "execution_count": 297,
   "id": "d3a16703",
   "metadata": {},
   "outputs": [
    {
     "name": "stdout",
     "output_type": "stream",
     "text": [
      "El tríangulo es rectángulo\n"
     ]
    }
   ],
   "source": [
    "# Ejemplo tríangulo rectángulo\n",
    "\n",
    "print(trian(90,45,45))"
   ]
  },
  {
   "cell_type": "code",
   "execution_count": 298,
   "id": "7b61a049",
   "metadata": {},
   "outputs": [
    {
     "name": "stdout",
     "output_type": "stream",
     "text": [
      "El tríangulo es obtúsangulo\n"
     ]
    }
   ],
   "source": [
    "# Ejemplo tríangulo obtúsangulo\n",
    "\n",
    "print(trian(30,30,120))"
   ]
  },
  {
   "cell_type": "markdown",
   "id": "64d2a5d3",
   "metadata": {},
   "source": [
    "#### 3. Calcule los factores primos de un número entero positivo. Desarrolle una función que recibe un valor x y devuelve una lista de sus factores primos."
   ]
  },
  {
   "cell_type": "code",
   "execution_count": 299,
   "id": "4f301c04",
   "metadata": {},
   "outputs": [],
   "source": [
    "import numpy as np "
   ]
  },
  {
   "cell_type": "code",
   "execution_count": 300,
   "id": "f1174523",
   "metadata": {},
   "outputs": [],
   "source": [
    "# Definiendo función para retornar los facotres primos\n",
    "\n",
    "def fp (x):\n",
    "\n",
    "    lista_primos = np.array([])\n",
    "    limite = x + 1\n",
    "\n",
    "    for divisor in range(2, limite):\n",
    "\n",
    "        while x % divisor == 0:\n",
    "            lista_primos = np.append(lista_primos,divisor)\n",
    "            x = x / divisor\n",
    "    return f'Los facotres primos son: {lista_primos}'\n",
    "\n"
   ]
  },
  {
   "cell_type": "code",
   "execution_count": 301,
   "id": "ebaaa5c6",
   "metadata": {},
   "outputs": [
    {
     "name": "stdout",
     "output_type": "stream",
     "text": [
      "Los facotres primos son: [2. 3. 5.]\n"
     ]
    }
   ],
   "source": [
    "# Ejemplo factores primos\n",
    "\n",
    "print(fp(30))"
   ]
  },
  {
   "cell_type": "markdown",
   "id": "2c08d3a5",
   "metadata": {},
   "source": [
    "#### 4. Desarrolle una función que recibe unvalor x y lo divide entre 5 hasta que el resultado deje de ser entero. Retorne el último valor obtenido antes de que la división no sea exacta."
   ]
  },
  {
   "cell_type": "code",
   "execution_count": 302,
   "id": "be7a45d5",
   "metadata": {},
   "outputs": [],
   "source": [
    "# Definiendo función para retornar el último valor entero\n",
    "\n",
    "def cinco(x):\n",
    "\n",
    "    valor_ult = np.array([])\n",
    "\n",
    "    while x % 5 == 0:\n",
    "        x = x / 5\n",
    "        valor_ult = np.append(valor_ult, x)\n",
    "\n",
    "        return f'El último valor entero es: {valor_ult}'\n",
    "\n",
    "    \n",
    "\n"
   ]
  },
  {
   "cell_type": "code",
   "execution_count": 303,
   "id": "28cc2f8e",
   "metadata": {},
   "outputs": [
    {
     "name": "stdout",
     "output_type": "stream",
     "text": [
      "El último valor entero es: [102.]\n"
     ]
    }
   ],
   "source": [
    "# Ejemplo divisor\n",
    "\n",
    "print(cinco(510))"
   ]
  },
  {
   "cell_type": "markdown",
   "id": "bb84df50",
   "metadata": {},
   "source": [
    "#### 5. Desarrolle una función que recibe una matriz cuadrada A de tamaño n × n y calcula la suma de los elementos de las 4 esquinas. Por ejemplo, el resultado de la siguiente matriz es (0 + 6 +−8 +−16) =−18:"
   ]
  },
  {
   "cell_type": "code",
   "execution_count": 304,
   "id": "c04c1598",
   "metadata": {},
   "outputs": [],
   "source": [
    "matriz_1 = np.array([[1, -12, 3], \n",
    "                   [-6, 1, 7],\n",
    "                   [8, 5, -7]])"
   ]
  },
  {
   "cell_type": "code",
   "execution_count": 305,
   "id": "7d75e2c9",
   "metadata": {},
   "outputs": [],
   "source": [
    "matriz_2 = np.array([[17, -29, 13,21,11], \n",
    "                   [19, 12, 4,-3,4],\n",
    "                   [-24, 5, 23,6,17],\n",
    "                   [14,-15,-19,-6,7],\n",
    "                   [-9,-12,-2,14,-2]])"
   ]
  },
  {
   "cell_type": "code",
   "execution_count": 306,
   "id": "7858e1f4",
   "metadata": {},
   "outputs": [],
   "source": [
    "# Definiendo función para retornar la suma de las esquinas\n",
    "\n",
    "def Matriz (M):\n",
    "    tamaño = M.shape[0]\n",
    "\n",
    "    esquina_1 = M[0,0]\n",
    "    esquina_2 = M[0,tamaño-1]\n",
    "    esquina_3 = M[tamaño - 1, 0]\n",
    "    esquina_4 = M[tamaño - 1, tamaño - 1]\n",
    "\n",
    "    suma = esquina_1 + esquina_2 + esquina_3 + esquina_4\n",
    "\n",
    "    return f'La suma de las esquinas {esquina_1, esquina_2, esquina_3, esquina_4}, es: {suma}'"
   ]
  },
  {
   "cell_type": "code",
   "execution_count": 307,
   "id": "aa4f6cc0",
   "metadata": {},
   "outputs": [
    {
     "name": "stdout",
     "output_type": "stream",
     "text": [
      "La suma de las esquinas (1, 3, 8, -7), es: 5\n"
     ]
    }
   ],
   "source": [
    "# Ejemplo Matriz\n",
    "\n",
    "print(Matriz(matriz_1))"
   ]
  },
  {
   "cell_type": "code",
   "execution_count": 308,
   "id": "82b47727",
   "metadata": {},
   "outputs": [
    {
     "name": "stdout",
     "output_type": "stream",
     "text": [
      "La suma de las esquinas (17, 11, -9, -2), es: 17\n"
     ]
    }
   ],
   "source": [
    "# Ejemplo Matriz\n",
    "\n",
    "print(Matriz(matriz_2))"
   ]
  },
  {
   "cell_type": "markdown",
   "id": "b5d16a91",
   "metadata": {},
   "source": [
    "#### 6. Desarrolle una función que recibe una matriz cuadrada A de tamaño n × n y calcula la suma de todos los elementos que estan en el borde. Por ejemplo, el resultado de la siguiente matriz es (0 + 20 + 6 + 48 +−16 +−5 +−8 + 4) = 49:"
   ]
  },
  {
   "cell_type": "code",
   "execution_count": 309,
   "id": "b7d0110a",
   "metadata": {},
   "outputs": [],
   "source": [
    "# Definiendo función para retornar la suma de los elementos del borde\n",
    "\n",
    "def Matriz_2(M3):\n",
    "        \n",
    "        tamaño = M3.shape[0]\n",
    "        filas_superiores = np.sum(M3[0, :]) + np.sum(M3[tamaño - 1, :])\n",
    "        filas_centrales = np.sum(M3[1:tamaño - 1, 0]) + np.sum(M3[1:tamaño - 1, tamaño - 1])\n",
    "        resultado_total = filas_superiores + filas_centrales\n",
    "\n",
    "\n",
    "        return f'El resultado es {resultado_total}'"
   ]
  },
  {
   "cell_type": "code",
   "execution_count": 310,
   "id": "47fe67ad",
   "metadata": {},
   "outputs": [
    {
     "name": "stdout",
     "output_type": "stream",
     "text": [
      "El resultado es -1\n"
     ]
    }
   ],
   "source": [
    "# Ejemplo Matriz\n",
    "\n",
    "print(Matriz_2(matriz_1))"
   ]
  },
  {
   "cell_type": "code",
   "execution_count": 311,
   "id": "7ac4b3a5",
   "metadata": {},
   "outputs": [
    {
     "name": "stdout",
     "output_type": "stream",
     "text": [
      "El resultado es 59\n"
     ]
    }
   ],
   "source": [
    "# Ejemplo Matriz\n",
    "\n",
    "print(Matriz_2(matriz_2))"
   ]
  },
  {
   "cell_type": "markdown",
   "id": "4e3be39a",
   "metadata": {},
   "source": [
    "#### 7. Desarrolle una función que recibe una matriz cuadrada A de tamaño n × n y calcula la suma de los elementos de las 2 diagonales. Por ejemplo, el resultado de la siguiente matriz es (0 + 12 +−16) + (6 + 12 +−8) = 6:"
   ]
  },
  {
   "cell_type": "code",
   "execution_count": 312,
   "id": "b0d8e0a1",
   "metadata": {},
   "outputs": [],
   "source": [
    "# Definiendo función para retornar la suma de las diagonales\n",
    "\n",
    "def Matriz_3(M3):\n",
    "    \n",
    "    tamaño = M3.shape[0]\n",
    "\n",
    "    suma_diagonal_1 = sum(M3[elementos, elementos] for elementos in range(tamaño))\n",
    "    suma_diagonal_2 = sum(M3[elementos, tamaño - 1 - elementos] for elementos in range(tamaño))\n",
    "\n",
    "    suma_total = suma_diagonal_1 + suma_diagonal_2\n",
    "\n",
    "    return f'La suma de la diagonal 1 es: {suma_diagonal_1} \\nLa suma de la diagonal 2 es: {suma_diagonal_2} \\nLa suma total es: {suma_total}'\n"
   ]
  },
  {
   "cell_type": "code",
   "execution_count": 313,
   "id": "bfc3e54c",
   "metadata": {},
   "outputs": [
    {
     "name": "stdout",
     "output_type": "stream",
     "text": [
      "La suma de la diagonal 1 es: -5 \n",
      "La suma de la diagonal 2 es: 12 \n",
      "La suma total es: 7\n"
     ]
    }
   ],
   "source": [
    "# Ejemplo Matriz\n",
    "\n",
    "print(Matriz_3(matriz_1))"
   ]
  },
  {
   "cell_type": "code",
   "execution_count": 314,
   "id": "50b70a92",
   "metadata": {},
   "outputs": [
    {
     "name": "stdout",
     "output_type": "stream",
     "text": [
      "La suma de la diagonal 1 es: 44 \n",
      "La suma de la diagonal 2 es: 7 \n",
      "La suma total es: 51\n"
     ]
    }
   ],
   "source": [
    "# Ejemplo Matriz\n",
    "\n",
    "print(Matriz_3(matriz_2))"
   ]
  },
  {
   "cell_type": "markdown",
   "id": "1b5e1696",
   "metadata": {},
   "source": [
    "#### 8. Desarrolle una función que recibe un Dataframe y retorna el máximo de cada columna en un diccionario. Verifique la correctitud de esta función usando la tabla clima.csv."
   ]
  },
  {
   "cell_type": "code",
   "execution_count": 315,
   "id": "0c701b49",
   "metadata": {},
   "outputs": [],
   "source": [
    "import pandas as pd"
   ]
  },
  {
   "cell_type": "code",
   "execution_count": 316,
   "id": "00a1969a",
   "metadata": {},
   "outputs": [],
   "source": [
    "# Cargando df clima\n",
    "\n",
    "url = \"https://raw.githubusercontent.com/AdoCrz/ClimaDataSet/main/clima.csv\"\n",
    "df = pd.read_csv(url, sep = ';', header = 0, decimal='.', index_col= None)"
   ]
  },
  {
   "cell_type": "code",
   "execution_count": 317,
   "id": "b5e83997",
   "metadata": {},
   "outputs": [
    {
     "data": {
      "text/html": [
       "<div>\n",
       "<style scoped>\n",
       "    .dataframe tbody tr th:only-of-type {\n",
       "        vertical-align: middle;\n",
       "    }\n",
       "\n",
       "    .dataframe tbody tr th {\n",
       "        vertical-align: top;\n",
       "    }\n",
       "\n",
       "    .dataframe thead th {\n",
       "        text-align: right;\n",
       "    }\n",
       "</style>\n",
       "<table border=\"1\" class=\"dataframe\">\n",
       "  <thead>\n",
       "    <tr style=\"text-align: right;\">\n",
       "      <th></th>\n",
       "      <th>temperatura</th>\n",
       "      <th>punto_rocio</th>\n",
       "      <th>humedad</th>\n",
       "      <th>direccion_viento</th>\n",
       "      <th>velocidad_viento</th>\n",
       "      <th>velocidad_rafaga</th>\n",
       "      <th>precipitacion</th>\n",
       "      <th>presion</th>\n",
       "      <th>visibilidad</th>\n",
       "    </tr>\n",
       "  </thead>\n",
       "  <tbody>\n",
       "    <tr>\n",
       "      <th>0</th>\n",
       "      <td>37.04</td>\n",
       "      <td>19.94</td>\n",
       "      <td>49.62</td>\n",
       "      <td>300</td>\n",
       "      <td>13.80936</td>\n",
       "      <td>20.71404</td>\n",
       "      <td>0.0</td>\n",
       "      <td>1012.1</td>\n",
       "      <td>10.0</td>\n",
       "    </tr>\n",
       "    <tr>\n",
       "      <th>1</th>\n",
       "      <td>33.98</td>\n",
       "      <td>15.08</td>\n",
       "      <td>45.43</td>\n",
       "      <td>310</td>\n",
       "      <td>12.65858</td>\n",
       "      <td>25.31716</td>\n",
       "      <td>0.0</td>\n",
       "      <td>1014.1</td>\n",
       "      <td>10.0</td>\n",
       "    </tr>\n",
       "    <tr>\n",
       "      <th>2</th>\n",
       "      <td>30.02</td>\n",
       "      <td>12.92</td>\n",
       "      <td>48.48</td>\n",
       "      <td>320</td>\n",
       "      <td>18.41248</td>\n",
       "      <td>26.46794</td>\n",
       "      <td>0.0</td>\n",
       "      <td>1016.0</td>\n",
       "      <td>10.0</td>\n",
       "    </tr>\n",
       "    <tr>\n",
       "      <th>3</th>\n",
       "      <td>28.94</td>\n",
       "      <td>12.02</td>\n",
       "      <td>48.69</td>\n",
       "      <td>320</td>\n",
       "      <td>18.41248</td>\n",
       "      <td>25.31716</td>\n",
       "      <td>0.0</td>\n",
       "      <td>1016.5</td>\n",
       "      <td>10.0</td>\n",
       "    </tr>\n",
       "    <tr>\n",
       "      <th>4</th>\n",
       "      <td>26.96</td>\n",
       "      <td>10.94</td>\n",
       "      <td>50.34</td>\n",
       "      <td>310</td>\n",
       "      <td>14.96014</td>\n",
       "      <td>25.31716</td>\n",
       "      <td>0.0</td>\n",
       "      <td>1016.3</td>\n",
       "      <td>10.0</td>\n",
       "    </tr>\n",
       "  </tbody>\n",
       "</table>\n",
       "</div>"
      ],
      "text/plain": [
       "   temperatura  punto_rocio  humedad  direccion_viento  velocidad_viento  \\\n",
       "0        37.04        19.94    49.62               300          13.80936   \n",
       "1        33.98        15.08    45.43               310          12.65858   \n",
       "2        30.02        12.92    48.48               320          18.41248   \n",
       "3        28.94        12.02    48.69               320          18.41248   \n",
       "4        26.96        10.94    50.34               310          14.96014   \n",
       "\n",
       "   velocidad_rafaga  precipitacion  presion  visibilidad  \n",
       "0          20.71404            0.0   1012.1         10.0  \n",
       "1          25.31716            0.0   1014.1         10.0  \n",
       "2          26.46794            0.0   1016.0         10.0  \n",
       "3          25.31716            0.0   1016.5         10.0  \n",
       "4          25.31716            0.0   1016.3         10.0  "
      ]
     },
     "execution_count": 317,
     "metadata": {},
     "output_type": "execute_result"
    }
   ],
   "source": [
    "# Observando las primeras filas\n",
    "\n",
    "df.head()"
   ]
  },
  {
   "cell_type": "code",
   "execution_count": 318,
   "id": "1beb6c91",
   "metadata": {},
   "outputs": [],
   "source": [
    "# Definiendo función para los máximos de cada columna\n",
    "\n",
    "def maximo(df):\n",
    "    maximos = {columna: df[columna].max() for columna in df.columns}\n",
    "    return {'Los maximos son': maximos}"
   ]
  },
  {
   "cell_type": "code",
   "execution_count": 319,
   "id": "fa4da3d7",
   "metadata": {},
   "outputs": [
    {
     "name": "stdout",
     "output_type": "stream",
     "text": [
      "{'Los maximos son': {'temperatura': 62.06, 'punto_rocio': 59.0, 'humedad': 96.55, 'direccion_viento': 360, 'velocidad_viento': 39.12652, 'velocidad_rafaga': 51.7851, 'precipitacion': 0.19, 'presion': 1032.7, 'visibilidad': 10.0}}\n"
     ]
    }
   ],
   "source": [
    "# Comprobando los máximos\n",
    "print(maximo(df))"
   ]
  },
  {
   "cell_type": "markdown",
   "id": "7df65561",
   "metadata": {},
   "source": [
    "#### 9. Desarrolle una función que recibe un Dataframe y un número de columna, luego debe retornar la moda de dicha columna. Verifique la correctitud de esta función usando la tabla clima.csv."
   ]
  },
  {
   "cell_type": "code",
   "execution_count": 320,
   "id": "c02f3182",
   "metadata": {},
   "outputs": [],
   "source": [
    "# Definiendo función para la moda\n",
    "\n",
    "def moda_columna(df, nc):\n",
    "    moda = df.iloc[:, nc].mode().values[0]\n",
    "    return {'La moda es: ': moda}"
   ]
  },
  {
   "cell_type": "code",
   "execution_count": 321,
   "id": "622d3ae9",
   "metadata": {},
   "outputs": [
    {
     "name": "stdout",
     "output_type": "stream",
     "text": [
      "{'La moda es: ': 23.0156}\n"
     ]
    }
   ],
   "source": [
    "# Comprobando la moda\n",
    "\n",
    "print(moda_columna(df,5))"
   ]
  },
  {
   "cell_type": "markdown",
   "id": "96d35a2f",
   "metadata": {},
   "source": [
    "#### 10. Desarrolle una función que recibe un Dataframe y un número de columna, luego debe retornar en un diccionario el nombre, el maximo y la moda de dicha columna. Verifique la correctitud de esta función usando la tabla clima.csv."
   ]
  },
  {
   "cell_type": "code",
   "execution_count": 322,
   "id": "a80be4f7",
   "metadata": {},
   "outputs": [],
   "source": [
    "# Definiendo función para la moda\n",
    "\n",
    "def moda_max(df, nc):\n",
    "    maximos    = np.max(df.iloc[:,nc])\n",
    "    moda = df.iloc[:, nc].mode().values[0]\n",
    "    \n",
    "    return {'Variable' : df.columns.values[nc],\n",
    "        'La moda es: ': moda,\n",
    "        'El máximo es' : maximos}"
   ]
  },
  {
   "cell_type": "code",
   "execution_count": 323,
   "id": "db3a1749",
   "metadata": {},
   "outputs": [
    {
     "name": "stdout",
     "output_type": "stream",
     "text": [
      "{'Variable': 'velocidad_rafaga', 'La moda es: ': 23.0156, 'El máximo es': 51.7851}\n"
     ]
    }
   ],
   "source": [
    "# Comprobando \n",
    "\n",
    "print(moda_max(df,5))"
   ]
  }
 ],
 "metadata": {
  "kernelspec": {
   "display_name": "base",
   "language": "python",
   "name": "python3"
  },
  "language_info": {
   "codemirror_mode": {
    "name": "ipython",
    "version": 3
   },
   "file_extension": ".py",
   "mimetype": "text/x-python",
   "name": "python",
   "nbconvert_exporter": "python",
   "pygments_lexer": "ipython3",
   "version": "3.12.7"
  }
 },
 "nbformat": 4,
 "nbformat_minor": 5
}
